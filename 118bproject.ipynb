{
 "cells": [
  {
   "cell_type": "code",
   "execution_count": 1,
   "metadata": {},
   "outputs": [],
   "source": [
    "import numpy as np\n",
    "import matplotlib\n",
    "import matplotlib.pyplot as plt\n",
    "import numpy.matlib\n",
    "import pandas as pd\n",
    "import numpy.linalg as la\n",
    "%matplotlib inline\n",
    "\n"
   ]
  },
  {
   "cell_type": "code",
   "execution_count": 2,
   "metadata": {},
   "outputs": [
    {
     "data": {
      "text/html": [
       "<div>\n",
       "<style scoped>\n",
       "    .dataframe tbody tr th:only-of-type {\n",
       "        vertical-align: middle;\n",
       "    }\n",
       "\n",
       "    .dataframe tbody tr th {\n",
       "        vertical-align: top;\n",
       "    }\n",
       "\n",
       "    .dataframe thead th {\n",
       "        text-align: right;\n",
       "    }\n",
       "</style>\n",
       "<table border=\"1\" class=\"dataframe\">\n",
       "  <thead>\n",
       "    <tr style=\"text-align: right;\">\n",
       "      <th></th>\n",
       "      <th>0</th>\n",
       "      <th>1</th>\n",
       "      <th>2</th>\n",
       "      <th>3</th>\n",
       "      <th>4</th>\n",
       "      <th>5</th>\n",
       "      <th>6</th>\n",
       "      <th>7</th>\n",
       "      <th>8</th>\n",
       "      <th>9</th>\n",
       "      <th>10</th>\n",
       "    </tr>\n",
       "  </thead>\n",
       "  <tbody>\n",
       "    <tr>\n",
       "      <th>0</th>\n",
       "      <td>1000025</td>\n",
       "      <td>5</td>\n",
       "      <td>1</td>\n",
       "      <td>1</td>\n",
       "      <td>1</td>\n",
       "      <td>2</td>\n",
       "      <td>1</td>\n",
       "      <td>3</td>\n",
       "      <td>1</td>\n",
       "      <td>1</td>\n",
       "      <td>2</td>\n",
       "    </tr>\n",
       "    <tr>\n",
       "      <th>1</th>\n",
       "      <td>1002945</td>\n",
       "      <td>5</td>\n",
       "      <td>4</td>\n",
       "      <td>4</td>\n",
       "      <td>5</td>\n",
       "      <td>7</td>\n",
       "      <td>10</td>\n",
       "      <td>3</td>\n",
       "      <td>2</td>\n",
       "      <td>1</td>\n",
       "      <td>2</td>\n",
       "    </tr>\n",
       "    <tr>\n",
       "      <th>2</th>\n",
       "      <td>1015425</td>\n",
       "      <td>3</td>\n",
       "      <td>1</td>\n",
       "      <td>1</td>\n",
       "      <td>1</td>\n",
       "      <td>2</td>\n",
       "      <td>2</td>\n",
       "      <td>3</td>\n",
       "      <td>1</td>\n",
       "      <td>1</td>\n",
       "      <td>2</td>\n",
       "    </tr>\n",
       "    <tr>\n",
       "      <th>3</th>\n",
       "      <td>1016277</td>\n",
       "      <td>6</td>\n",
       "      <td>8</td>\n",
       "      <td>8</td>\n",
       "      <td>1</td>\n",
       "      <td>3</td>\n",
       "      <td>4</td>\n",
       "      <td>3</td>\n",
       "      <td>7</td>\n",
       "      <td>1</td>\n",
       "      <td>2</td>\n",
       "    </tr>\n",
       "    <tr>\n",
       "      <th>4</th>\n",
       "      <td>1017023</td>\n",
       "      <td>4</td>\n",
       "      <td>1</td>\n",
       "      <td>1</td>\n",
       "      <td>3</td>\n",
       "      <td>2</td>\n",
       "      <td>1</td>\n",
       "      <td>3</td>\n",
       "      <td>1</td>\n",
       "      <td>1</td>\n",
       "      <td>2</td>\n",
       "    </tr>\n",
       "    <tr>\n",
       "      <th>...</th>\n",
       "      <td>...</td>\n",
       "      <td>...</td>\n",
       "      <td>...</td>\n",
       "      <td>...</td>\n",
       "      <td>...</td>\n",
       "      <td>...</td>\n",
       "      <td>...</td>\n",
       "      <td>...</td>\n",
       "      <td>...</td>\n",
       "      <td>...</td>\n",
       "      <td>...</td>\n",
       "    </tr>\n",
       "    <tr>\n",
       "      <th>694</th>\n",
       "      <td>776715</td>\n",
       "      <td>3</td>\n",
       "      <td>1</td>\n",
       "      <td>1</td>\n",
       "      <td>1</td>\n",
       "      <td>3</td>\n",
       "      <td>2</td>\n",
       "      <td>1</td>\n",
       "      <td>1</td>\n",
       "      <td>1</td>\n",
       "      <td>2</td>\n",
       "    </tr>\n",
       "    <tr>\n",
       "      <th>695</th>\n",
       "      <td>841769</td>\n",
       "      <td>2</td>\n",
       "      <td>1</td>\n",
       "      <td>1</td>\n",
       "      <td>1</td>\n",
       "      <td>2</td>\n",
       "      <td>1</td>\n",
       "      <td>1</td>\n",
       "      <td>1</td>\n",
       "      <td>1</td>\n",
       "      <td>2</td>\n",
       "    </tr>\n",
       "    <tr>\n",
       "      <th>696</th>\n",
       "      <td>888820</td>\n",
       "      <td>5</td>\n",
       "      <td>10</td>\n",
       "      <td>10</td>\n",
       "      <td>3</td>\n",
       "      <td>7</td>\n",
       "      <td>3</td>\n",
       "      <td>8</td>\n",
       "      <td>10</td>\n",
       "      <td>2</td>\n",
       "      <td>4</td>\n",
       "    </tr>\n",
       "    <tr>\n",
       "      <th>697</th>\n",
       "      <td>897471</td>\n",
       "      <td>4</td>\n",
       "      <td>8</td>\n",
       "      <td>6</td>\n",
       "      <td>4</td>\n",
       "      <td>3</td>\n",
       "      <td>4</td>\n",
       "      <td>10</td>\n",
       "      <td>6</td>\n",
       "      <td>1</td>\n",
       "      <td>4</td>\n",
       "    </tr>\n",
       "    <tr>\n",
       "      <th>698</th>\n",
       "      <td>897471</td>\n",
       "      <td>4</td>\n",
       "      <td>8</td>\n",
       "      <td>8</td>\n",
       "      <td>5</td>\n",
       "      <td>4</td>\n",
       "      <td>5</td>\n",
       "      <td>10</td>\n",
       "      <td>4</td>\n",
       "      <td>1</td>\n",
       "      <td>4</td>\n",
       "    </tr>\n",
       "  </tbody>\n",
       "</table>\n",
       "<p>699 rows × 11 columns</p>\n",
       "</div>"
      ],
      "text/plain": [
       "          0   1   2   3   4   5   6   7   8   9   10\n",
       "0    1000025   5   1   1   1   2   1   3   1   1   2\n",
       "1    1002945   5   4   4   5   7  10   3   2   1   2\n",
       "2    1015425   3   1   1   1   2   2   3   1   1   2\n",
       "3    1016277   6   8   8   1   3   4   3   7   1   2\n",
       "4    1017023   4   1   1   3   2   1   3   1   1   2\n",
       "..       ...  ..  ..  ..  ..  ..  ..  ..  ..  ..  ..\n",
       "694   776715   3   1   1   1   3   2   1   1   1   2\n",
       "695   841769   2   1   1   1   2   1   1   1   1   2\n",
       "696   888820   5  10  10   3   7   3   8  10   2   4\n",
       "697   897471   4   8   6   4   3   4  10   6   1   4\n",
       "698   897471   4   8   8   5   4   5  10   4   1   4\n",
       "\n",
       "[699 rows x 11 columns]"
      ]
     },
     "execution_count": 2,
     "metadata": {},
     "output_type": "execute_result"
    }
   ],
   "source": [
    "df = pd.read_csv('breast-cancer-wisconsin.data.csv',header=None)\n",
    "df"
   ]
  },
  {
   "cell_type": "code",
   "execution_count": 3,
   "metadata": {},
   "outputs": [
    {
     "data": {
      "text/plain": [
       "False"
      ]
     },
     "execution_count": 3,
     "metadata": {},
     "output_type": "execute_result"
    }
   ],
   "source": [
    "df.isnull().any().any()"
   ]
  },
  {
   "cell_type": "code",
   "execution_count": 4,
   "metadata": {},
   "outputs": [
    {
     "data": {
      "text/plain": [
       "'Sample code number: id number\\nClump Thickness: 1 - 10\\nUniformity of Cell Size: 1 - 10\\nUniformity of Cell Shape: 1 - 10\\nMarginal Adhesion: 1 - 10\\nSingle Epithelial Cell Size: 1 - 10\\nBare Nuclei: 1 - 10\\nBland Chromatin: 1 - 10\\nNormal Nucleoli: 1 - 10\\nMitoses: 1 - 10\\nClass: (2 for benign, 4 for malignant)'"
      ]
     },
     "execution_count": 4,
     "metadata": {},
     "output_type": "execute_result"
    }
   ],
   "source": [
    "df.rename(columns={0:'id',1:'clump thickness',2:'uniformity of cellsize',\n",
    "           3:'uniformity of cell shape',4:'marginal adhesion', \n",
    "           5:'single epithelial cell size',6:'bare nuclei', \n",
    "           7:'bland chromatin',8:'normal nucleoli',9:'mitosis',10:'class'},inplace=True)\n",
    "\n",
    "'''Sample code number: id number\n",
    "Clump Thickness: 1 - 10\n",
    "Uniformity of Cell Size: 1 - 10\n",
    "Uniformity of Cell Shape: 1 - 10\n",
    "Marginal Adhesion: 1 - 10\n",
    "Single Epithelial Cell Size: 1 - 10\n",
    "Bare Nuclei: 1 - 10\n",
    "Bland Chromatin: 1 - 10\n",
    "Normal Nucleoli: 1 - 10\n",
    "Mitoses: 1 - 10\n",
    "Class: (2 for benign, 4 for malignant)'''\n"
   ]
  },
  {
   "cell_type": "markdown",
   "metadata": {},
   "source": [
    "no null values"
   ]
  },
  {
   "cell_type": "code",
   "execution_count": 5,
   "metadata": {},
   "outputs": [],
   "source": [
    "df['class'] = df['class'].replace(to_replace = 2, value = 0) #benign\n",
    "df['class'] = df['class'].replace(to_replace = 4, value = 1) #malignant"
   ]
  },
  {
   "cell_type": "code",
   "execution_count": 6,
   "metadata": {},
   "outputs": [],
   "source": [
    "df['bare nuclei'] = df['bare nuclei'].replace(to_replace = '?', value = None)"
   ]
  },
  {
   "cell_type": "code",
   "execution_count": 7,
   "metadata": {},
   "outputs": [],
   "source": [
    "df['bare nuclei'] = df['bare nuclei'].astype('int64')"
   ]
  },
  {
   "cell_type": "code",
   "execution_count": 8,
   "metadata": {},
   "outputs": [
    {
     "data": {
      "text/html": [
       "<div>\n",
       "<style scoped>\n",
       "    .dataframe tbody tr th:only-of-type {\n",
       "        vertical-align: middle;\n",
       "    }\n",
       "\n",
       "    .dataframe tbody tr th {\n",
       "        vertical-align: top;\n",
       "    }\n",
       "\n",
       "    .dataframe thead th {\n",
       "        text-align: right;\n",
       "    }\n",
       "</style>\n",
       "<table border=\"1\" class=\"dataframe\">\n",
       "  <thead>\n",
       "    <tr style=\"text-align: right;\">\n",
       "      <th></th>\n",
       "      <th>clump thickness</th>\n",
       "      <th>uniformity of cellsize</th>\n",
       "      <th>uniformity of cell shape</th>\n",
       "      <th>marginal adhesion</th>\n",
       "      <th>single epithelial cell size</th>\n",
       "      <th>bare nuclei</th>\n",
       "      <th>bland chromatin</th>\n",
       "      <th>normal nucleoli</th>\n",
       "      <th>mitosis</th>\n",
       "      <th>class</th>\n",
       "    </tr>\n",
       "  </thead>\n",
       "  <tbody>\n",
       "    <tr>\n",
       "      <th>0</th>\n",
       "      <td>5</td>\n",
       "      <td>1</td>\n",
       "      <td>1</td>\n",
       "      <td>1</td>\n",
       "      <td>2</td>\n",
       "      <td>1</td>\n",
       "      <td>3</td>\n",
       "      <td>1</td>\n",
       "      <td>1</td>\n",
       "      <td>0</td>\n",
       "    </tr>\n",
       "    <tr>\n",
       "      <th>1</th>\n",
       "      <td>5</td>\n",
       "      <td>4</td>\n",
       "      <td>4</td>\n",
       "      <td>5</td>\n",
       "      <td>7</td>\n",
       "      <td>10</td>\n",
       "      <td>3</td>\n",
       "      <td>2</td>\n",
       "      <td>1</td>\n",
       "      <td>0</td>\n",
       "    </tr>\n",
       "    <tr>\n",
       "      <th>2</th>\n",
       "      <td>3</td>\n",
       "      <td>1</td>\n",
       "      <td>1</td>\n",
       "      <td>1</td>\n",
       "      <td>2</td>\n",
       "      <td>2</td>\n",
       "      <td>3</td>\n",
       "      <td>1</td>\n",
       "      <td>1</td>\n",
       "      <td>0</td>\n",
       "    </tr>\n",
       "    <tr>\n",
       "      <th>3</th>\n",
       "      <td>6</td>\n",
       "      <td>8</td>\n",
       "      <td>8</td>\n",
       "      <td>1</td>\n",
       "      <td>3</td>\n",
       "      <td>4</td>\n",
       "      <td>3</td>\n",
       "      <td>7</td>\n",
       "      <td>1</td>\n",
       "      <td>0</td>\n",
       "    </tr>\n",
       "    <tr>\n",
       "      <th>4</th>\n",
       "      <td>4</td>\n",
       "      <td>1</td>\n",
       "      <td>1</td>\n",
       "      <td>3</td>\n",
       "      <td>2</td>\n",
       "      <td>1</td>\n",
       "      <td>3</td>\n",
       "      <td>1</td>\n",
       "      <td>1</td>\n",
       "      <td>0</td>\n",
       "    </tr>\n",
       "    <tr>\n",
       "      <th>...</th>\n",
       "      <td>...</td>\n",
       "      <td>...</td>\n",
       "      <td>...</td>\n",
       "      <td>...</td>\n",
       "      <td>...</td>\n",
       "      <td>...</td>\n",
       "      <td>...</td>\n",
       "      <td>...</td>\n",
       "      <td>...</td>\n",
       "      <td>...</td>\n",
       "    </tr>\n",
       "    <tr>\n",
       "      <th>694</th>\n",
       "      <td>3</td>\n",
       "      <td>1</td>\n",
       "      <td>1</td>\n",
       "      <td>1</td>\n",
       "      <td>3</td>\n",
       "      <td>2</td>\n",
       "      <td>1</td>\n",
       "      <td>1</td>\n",
       "      <td>1</td>\n",
       "      <td>0</td>\n",
       "    </tr>\n",
       "    <tr>\n",
       "      <th>695</th>\n",
       "      <td>2</td>\n",
       "      <td>1</td>\n",
       "      <td>1</td>\n",
       "      <td>1</td>\n",
       "      <td>2</td>\n",
       "      <td>1</td>\n",
       "      <td>1</td>\n",
       "      <td>1</td>\n",
       "      <td>1</td>\n",
       "      <td>0</td>\n",
       "    </tr>\n",
       "    <tr>\n",
       "      <th>696</th>\n",
       "      <td>5</td>\n",
       "      <td>10</td>\n",
       "      <td>10</td>\n",
       "      <td>3</td>\n",
       "      <td>7</td>\n",
       "      <td>3</td>\n",
       "      <td>8</td>\n",
       "      <td>10</td>\n",
       "      <td>2</td>\n",
       "      <td>1</td>\n",
       "    </tr>\n",
       "    <tr>\n",
       "      <th>697</th>\n",
       "      <td>4</td>\n",
       "      <td>8</td>\n",
       "      <td>6</td>\n",
       "      <td>4</td>\n",
       "      <td>3</td>\n",
       "      <td>4</td>\n",
       "      <td>10</td>\n",
       "      <td>6</td>\n",
       "      <td>1</td>\n",
       "      <td>1</td>\n",
       "    </tr>\n",
       "    <tr>\n",
       "      <th>698</th>\n",
       "      <td>4</td>\n",
       "      <td>8</td>\n",
       "      <td>8</td>\n",
       "      <td>5</td>\n",
       "      <td>4</td>\n",
       "      <td>5</td>\n",
       "      <td>10</td>\n",
       "      <td>4</td>\n",
       "      <td>1</td>\n",
       "      <td>1</td>\n",
       "    </tr>\n",
       "  </tbody>\n",
       "</table>\n",
       "<p>699 rows × 10 columns</p>\n",
       "</div>"
      ],
      "text/plain": [
       "     clump thickness  uniformity of cellsize  uniformity of cell shape  \\\n",
       "0                  5                       1                         1   \n",
       "1                  5                       4                         4   \n",
       "2                  3                       1                         1   \n",
       "3                  6                       8                         8   \n",
       "4                  4                       1                         1   \n",
       "..               ...                     ...                       ...   \n",
       "694                3                       1                         1   \n",
       "695                2                       1                         1   \n",
       "696                5                      10                        10   \n",
       "697                4                       8                         6   \n",
       "698                4                       8                         8   \n",
       "\n",
       "     marginal adhesion  single epithelial cell size  bare nuclei  \\\n",
       "0                    1                            2            1   \n",
       "1                    5                            7           10   \n",
       "2                    1                            2            2   \n",
       "3                    1                            3            4   \n",
       "4                    3                            2            1   \n",
       "..                 ...                          ...          ...   \n",
       "694                  1                            3            2   \n",
       "695                  1                            2            1   \n",
       "696                  3                            7            3   \n",
       "697                  4                            3            4   \n",
       "698                  5                            4            5   \n",
       "\n",
       "     bland chromatin  normal nucleoli  mitosis  class  \n",
       "0                  3                1        1      0  \n",
       "1                  3                2        1      0  \n",
       "2                  3                1        1      0  \n",
       "3                  3                7        1      0  \n",
       "4                  3                1        1      0  \n",
       "..               ...              ...      ...    ...  \n",
       "694                1                1        1      0  \n",
       "695                1                1        1      0  \n",
       "696                8               10        2      1  \n",
       "697               10                6        1      1  \n",
       "698               10                4        1      1  \n",
       "\n",
       "[699 rows x 10 columns]"
      ]
     },
     "execution_count": 8,
     "metadata": {},
     "output_type": "execute_result"
    }
   ],
   "source": [
    "df = df.drop(columns=['id'])\n",
    "df"
   ]
  },
  {
   "cell_type": "code",
   "execution_count": 10,
   "metadata": {},
   "outputs": [
    {
     "data": {
      "text/html": [
       "<div>\n",
       "<style scoped>\n",
       "    .dataframe tbody tr th:only-of-type {\n",
       "        vertical-align: middle;\n",
       "    }\n",
       "\n",
       "    .dataframe tbody tr th {\n",
       "        vertical-align: top;\n",
       "    }\n",
       "\n",
       "    .dataframe thead th {\n",
       "        text-align: right;\n",
       "    }\n",
       "</style>\n",
       "<table border=\"1\" class=\"dataframe\">\n",
       "  <thead>\n",
       "    <tr style=\"text-align: right;\">\n",
       "      <th></th>\n",
       "      <th>clump thickness</th>\n",
       "      <th>uniformity of cellsize</th>\n",
       "      <th>uniformity of cell shape</th>\n",
       "      <th>marginal adhesion</th>\n",
       "      <th>single epithelial cell size</th>\n",
       "      <th>bare nuclei</th>\n",
       "      <th>bland chromatin</th>\n",
       "      <th>normal nucleoli</th>\n",
       "      <th>mitosis</th>\n",
       "      <th>class</th>\n",
       "    </tr>\n",
       "  </thead>\n",
       "  <tbody>\n",
       "    <tr>\n",
       "      <th>count</th>\n",
       "      <td>699.000000</td>\n",
       "      <td>699.000000</td>\n",
       "      <td>699.000000</td>\n",
       "      <td>699.000000</td>\n",
       "      <td>699.000000</td>\n",
       "      <td>699.000000</td>\n",
       "      <td>699.000000</td>\n",
       "      <td>699.000000</td>\n",
       "      <td>699.000000</td>\n",
       "      <td>699.000000</td>\n",
       "    </tr>\n",
       "    <tr>\n",
       "      <th>mean</th>\n",
       "      <td>4.417740</td>\n",
       "      <td>3.134478</td>\n",
       "      <td>3.207439</td>\n",
       "      <td>2.806867</td>\n",
       "      <td>3.216023</td>\n",
       "      <td>3.529328</td>\n",
       "      <td>3.437768</td>\n",
       "      <td>2.866953</td>\n",
       "      <td>1.589413</td>\n",
       "      <td>0.344778</td>\n",
       "    </tr>\n",
       "    <tr>\n",
       "      <th>std</th>\n",
       "      <td>2.815741</td>\n",
       "      <td>3.051459</td>\n",
       "      <td>2.971913</td>\n",
       "      <td>2.855379</td>\n",
       "      <td>2.214300</td>\n",
       "      <td>3.635260</td>\n",
       "      <td>2.438364</td>\n",
       "      <td>3.053634</td>\n",
       "      <td>1.715078</td>\n",
       "      <td>0.475636</td>\n",
       "    </tr>\n",
       "    <tr>\n",
       "      <th>min</th>\n",
       "      <td>1.000000</td>\n",
       "      <td>1.000000</td>\n",
       "      <td>1.000000</td>\n",
       "      <td>1.000000</td>\n",
       "      <td>1.000000</td>\n",
       "      <td>1.000000</td>\n",
       "      <td>1.000000</td>\n",
       "      <td>1.000000</td>\n",
       "      <td>1.000000</td>\n",
       "      <td>0.000000</td>\n",
       "    </tr>\n",
       "    <tr>\n",
       "      <th>25%</th>\n",
       "      <td>2.000000</td>\n",
       "      <td>1.000000</td>\n",
       "      <td>1.000000</td>\n",
       "      <td>1.000000</td>\n",
       "      <td>2.000000</td>\n",
       "      <td>1.000000</td>\n",
       "      <td>2.000000</td>\n",
       "      <td>1.000000</td>\n",
       "      <td>1.000000</td>\n",
       "      <td>0.000000</td>\n",
       "    </tr>\n",
       "    <tr>\n",
       "      <th>50%</th>\n",
       "      <td>4.000000</td>\n",
       "      <td>1.000000</td>\n",
       "      <td>1.000000</td>\n",
       "      <td>1.000000</td>\n",
       "      <td>2.000000</td>\n",
       "      <td>1.000000</td>\n",
       "      <td>3.000000</td>\n",
       "      <td>1.000000</td>\n",
       "      <td>1.000000</td>\n",
       "      <td>0.000000</td>\n",
       "    </tr>\n",
       "    <tr>\n",
       "      <th>75%</th>\n",
       "      <td>6.000000</td>\n",
       "      <td>5.000000</td>\n",
       "      <td>5.000000</td>\n",
       "      <td>4.000000</td>\n",
       "      <td>4.000000</td>\n",
       "      <td>6.000000</td>\n",
       "      <td>5.000000</td>\n",
       "      <td>4.000000</td>\n",
       "      <td>1.000000</td>\n",
       "      <td>1.000000</td>\n",
       "    </tr>\n",
       "    <tr>\n",
       "      <th>max</th>\n",
       "      <td>10.000000</td>\n",
       "      <td>10.000000</td>\n",
       "      <td>10.000000</td>\n",
       "      <td>10.000000</td>\n",
       "      <td>10.000000</td>\n",
       "      <td>10.000000</td>\n",
       "      <td>10.000000</td>\n",
       "      <td>10.000000</td>\n",
       "      <td>10.000000</td>\n",
       "      <td>1.000000</td>\n",
       "    </tr>\n",
       "  </tbody>\n",
       "</table>\n",
       "</div>"
      ],
      "text/plain": [
       "       clump thickness  uniformity of cellsize  uniformity of cell shape  \\\n",
       "count       699.000000              699.000000                699.000000   \n",
       "mean          4.417740                3.134478                  3.207439   \n",
       "std           2.815741                3.051459                  2.971913   \n",
       "min           1.000000                1.000000                  1.000000   \n",
       "25%           2.000000                1.000000                  1.000000   \n",
       "50%           4.000000                1.000000                  1.000000   \n",
       "75%           6.000000                5.000000                  5.000000   \n",
       "max          10.000000               10.000000                 10.000000   \n",
       "\n",
       "       marginal adhesion  single epithelial cell size  bare nuclei  \\\n",
       "count         699.000000                   699.000000   699.000000   \n",
       "mean            2.806867                     3.216023     3.529328   \n",
       "std             2.855379                     2.214300     3.635260   \n",
       "min             1.000000                     1.000000     1.000000   \n",
       "25%             1.000000                     2.000000     1.000000   \n",
       "50%             1.000000                     2.000000     1.000000   \n",
       "75%             4.000000                     4.000000     6.000000   \n",
       "max            10.000000                    10.000000    10.000000   \n",
       "\n",
       "       bland chromatin  normal nucleoli     mitosis       class  \n",
       "count       699.000000       699.000000  699.000000  699.000000  \n",
       "mean          3.437768         2.866953    1.589413    0.344778  \n",
       "std           2.438364         3.053634    1.715078    0.475636  \n",
       "min           1.000000         1.000000    1.000000    0.000000  \n",
       "25%           2.000000         1.000000    1.000000    0.000000  \n",
       "50%           3.000000         1.000000    1.000000    0.000000  \n",
       "75%           5.000000         4.000000    1.000000    1.000000  \n",
       "max          10.000000        10.000000   10.000000    1.000000  "
      ]
     },
     "execution_count": 10,
     "metadata": {},
     "output_type": "execute_result"
    }
   ],
   "source": [
    "df.describe()"
   ]
  },
  {
   "cell_type": "code",
   "execution_count": 34,
   "metadata": {},
   "outputs": [
    {
     "name": "stdout",
     "output_type": "stream",
     "text": [
      "<class 'pandas.core.frame.DataFrame'>\n",
      "RangeIndex: 699 entries, 0 to 698\n",
      "Data columns (total 10 columns):\n",
      " #   Column                       Non-Null Count  Dtype\n",
      "---  ------                       --------------  -----\n",
      " 0   clump thickness              699 non-null    int64\n",
      " 1   uniformity of cellsize       699 non-null    int64\n",
      " 2   uniformity of cell shape     699 non-null    int64\n",
      " 3   marginal adhesion            699 non-null    int64\n",
      " 4   single epithelial cell size  699 non-null    int64\n",
      " 5   bare nuclei                  699 non-null    int64\n",
      " 6   bland chromatin              699 non-null    int64\n",
      " 7   normal nucleoli              699 non-null    int64\n",
      " 8   mitosis                      699 non-null    int64\n",
      " 9   class                        699 non-null    int64\n",
      "dtypes: int64(10)\n",
      "memory usage: 54.7 KB\n"
     ]
    }
   ],
   "source": [
    "df.info()"
   ]
  },
  {
   "cell_type": "markdown",
   "metadata": {},
   "source": [
    "# K-Means"
   ]
  },
  {
   "cell_type": "code",
   "execution_count": 11,
   "metadata": {},
   "outputs": [],
   "source": [
    "def plotCurrent(X, Rnk, Kmus):\n",
    "    N, D = np.shape(X)\n",
    "    K = np.shape(Kmus)[0]\n",
    "    InitColorMat = np.matrix([[1, 0, 0], \n",
    "                              [0, 1, 0],   \n",
    "                              [0, 0, 1],\n",
    "                              [0, 0, 0],\n",
    "                              [1, 1, 0], \n",
    "                              [1, 0, 1], \n",
    "                              [0, 1, 1]])\n",
    "    KColorMat = InitColorMat[0:K]\n",
    "    colorVec = Rnk.dot(KColorMat)\n",
    "    muColorVec = np.eye(K).dot(KColorMat)\n",
    "    plt.scatter(X[:,3], X[:,9], edgecolors=colorVec, marker='o', facecolors='none', alpha=0.3)\n",
    "    plt.scatter(Kmus[:,0], Kmus[:,1], c=muColorVec, marker='D', s=50);"
   ]
  },
  {
   "cell_type": "code",
   "execution_count": 17,
   "metadata": {},
   "outputs": [],
   "source": [
    "def calcSqDistances(X, Kmus):\n",
    "    N = np.shape(X)[0]\n",
    "    K = Kmus.shape[0]\n",
    "    D = [] \n",
    "    for point in X:\n",
    "        for kpoint in Kmus:\n",
    "            D.append(np.sqrt(np.sum((point - kpoint)**2)))\n",
    "    D = np.array(D)\n",
    "    D = D.reshape((N, K))\n",
    "                     \n",
    "    return D"
   ]
  },
  {
   "cell_type": "code",
   "execution_count": 27,
   "metadata": {},
   "outputs": [],
   "source": [
    "# not getting the same graphs?\n",
    "\n",
    "# def determineRnk(sqDmat): \n",
    "#     R_mat = np.zeros(sqDmat.shape)\n",
    "#     min_cols = np.argmin(sqDmat, axis=1)\n",
    "#     for row,col in zip(range(0,len(sqDmat)),min_cols):\n",
    "#         R_mat[row][col] = 1\n",
    "#     return R_mat"
   ]
  },
  {
   "cell_type": "code",
   "execution_count": 28,
   "metadata": {},
   "outputs": [],
   "source": [
    "def determineRnk(sqDmat):\n",
    "    n,k = sqDmat.shape\n",
    "    for arr in sqDmat:\n",
    "        index = np.argmin(arr, axis = None, out = None)\n",
    "        for i in range(k):\n",
    "            if not i == index:\n",
    "                arr[i] = 0\n",
    "        arr[index] = 1\n",
    "    return sqDmat"
   ]
  },
  {
   "cell_type": "code",
   "execution_count": 32,
   "metadata": {},
   "outputs": [],
   "source": [
    "def recalcMus(X, Rnk):\n",
    "    return (np.divide(X.T.dot(Rnk), np.sum(Rnk,axis=0))).T"
   ]
  },
  {
   "cell_type": "code",
   "execution_count": 57,
   "metadata": {},
   "outputs": [],
   "source": [
    "def runKMeans(K, data):\n",
    "    X = data.to_numpy()\n",
    "    N = np.shape(X)[0]\n",
    "    D = np.shape(X)[1]\n",
    "    Kmus = np.zeros((K, D))\n",
    "    rndinds = np.random.permutation(N)\n",
    "    Kmus = X[rndinds[:K]];\n",
    "    maxiters = 1000;\n",
    "    for iter in range(maxiters):\n",
    "        sqDmat = calcSqDistances(X, Kmus);\n",
    "        Rnk = determineRnk(sqDmat)\n",
    "        KmusOld = Kmus\n",
    "        plotCurrent(X, Rnk, Kmus)\n",
    "        plt.show()\n",
    "        Kmus = recalcMus(X, Rnk)\n",
    "        print(\"Final Cluster Values: \", Kmus)\n",
    "        if sum(abs(KmusOld.flatten() - Kmus.flatten())) < 1e-6:\n",
    "            break\n",
    "    plotCurrent(X,Rnk,Kmus)"
   ]
  },
  {
   "cell_type": "code",
   "execution_count": 55,
   "metadata": {},
   "outputs": [
    {
     "data": {
      "image/png": "[encoded data removed]",
      "text/plain": [
       "<Figure size 432x288 with 1 Axes>"
      ]
     },
     "metadata": {
      "needs_background": "light"
     },
     "output_type": "display_data"
    },
    {
     "name": "stdout",
     "output_type": "stream",
     "text": [
      "Final Cluter Values:  [[5.57115010e+00 3.86159844e+00 3.92982456e+00 3.39571150e+00\n",
      "  3.68421053e+00 4.32553606e+00 3.95126706e+00 3.51072125e+00\n",
      "  1.76608187e+00 4.67836257e-01]\n",
      " [1.23655914e+00 1.12903226e+00 1.21505376e+00 1.18279570e+00\n",
      "  1.92473118e+00 1.33333333e+00 2.02150538e+00 1.09139785e+00\n",
      "  1.10215054e+00 5.37634409e-03]]\n"
     ]
    },
    {
     "data": {
      "image/png": "[encoded data removed]",
      "text/plain": [
       "<Figure size 432x288 with 1 Axes>"
      ]
     },
     "metadata": {
      "needs_background": "light"
     },
     "output_type": "display_data"
    },
    {
     "name": "stdout",
     "output_type": "stream",
     "text": [
      "Final Cluter Values:  [[6.98513011e+00 6.28252788e+00 6.27881041e+00 5.30111524e+00\n",
      "  5.17472119e+00 7.20074349e+00 5.71747212e+00 5.65427509e+00\n",
      "  2.43866171e+00 8.92193309e-01]\n",
      " [2.81162791e+00 1.16511628e+00 1.28604651e+00 1.24651163e+00\n",
      "  1.99069767e+00 1.23255814e+00 2.01162791e+00 1.12325581e+00\n",
      "  1.05813953e+00 2.32558140e-03]]\n"
     ]
    },
    {
     "data": {
      "image/png": "[encoded data removed]",
      "text/plain": [
       "<Figure size 432x288 with 1 Axes>"
      ]
     },
     "metadata": {
      "needs_background": "light"
     },
     "output_type": "display_data"
    },
    {
     "name": "stdout",
     "output_type": "stream",
     "text": [
      "Final Cluter Values:  [[7.14107884 6.69709544 6.66390041 5.6473029  5.43153527 7.68049793\n",
      "  6.00829876 6.01659751 2.55186722 0.94605809]\n",
      " [2.98471616 1.25982533 1.38864629 1.31222707 2.05021834 1.34497817\n",
      "  2.08515284 1.20960699 1.08296943 0.02838428]]\n"
     ]
    },
    {
     "data": {
      "image/png": "[encoded data removed]",
      "text/plain": [
       "<Figure size 432x288 with 1 Axes>"
      ]
     },
     "metadata": {
      "needs_background": "light"
     },
     "output_type": "display_data"
    },
    {
     "name": "stdout",
     "output_type": "stream",
     "text": [
      "Final Cluter Values:  [[7.15677966 6.75847458 6.71610169 5.69915254 5.44491525 7.81355932\n",
      "  6.06355932 6.04237288 2.54661017 0.95338983]\n",
      " [3.02159827 1.28725702 1.41900648 1.33261339 2.07991361 1.34557235\n",
      "  2.09935205 1.24838013 1.10151188 0.03455724]]\n"
     ]
    },
    {
     "data": {
      "image/png": "[encoded data removed]",
      "text/plain": [
       "<Figure size 432x288 with 1 Axes>"
      ]
     },
     "metadata": {
      "needs_background": "light"
     },
     "output_type": "display_data"
    },
    {
     "name": "stdout",
     "output_type": "stream",
     "text": [
      "Final Cluter Values:  [[7.14893617 6.76595745 6.7106383  5.71914894 5.45957447 7.83404255\n",
      "  6.08085106 6.06382979 2.53617021 0.95319149]\n",
      " [3.03448276 1.29525862 1.43318966 1.33189655 2.07974138 1.34913793\n",
      "  2.09913793 1.24784483 1.10991379 0.03663793]]\n"
     ]
    },
    {
     "data": {
      "image/png": "[encoded data removed]",
      "text/plain": [
       "<Figure size 432x288 with 1 Axes>"
      ]
     },
     "metadata": {
      "needs_background": "light"
     },
     "output_type": "display_data"
    },
    {
     "name": "stdout",
     "output_type": "stream",
     "text": [
      "Final Cluter Values:  [[7.14957265 6.77777778 6.71367521 5.72649573 5.45726496 7.86324786\n",
      "  6.08974359 6.07692308 2.54273504 0.95299145]\n",
      " [3.04301075 1.30107527 1.44301075 1.33763441 2.08817204 1.3483871\n",
      "  2.10322581 1.2516129  1.10967742 0.03870968]]\n"
     ]
    },
    {
     "data": {
      "image/png": "[encoded data removed]",
      "text/plain": [
       "<Figure size 432x288 with 1 Axes>"
      ]
     },
     "metadata": {
      "needs_background": "light"
     },
     "output_type": "display_data"
    },
    {
     "name": "stdout",
     "output_type": "stream",
     "text": [
      "Final Cluter Values:  [[7.14957265 6.77777778 6.71367521 5.72649573 5.45726496 7.86324786\n",
      "  6.08974359 6.07692308 2.54273504 0.95299145]\n",
      " [3.04301075 1.30107527 1.44301075 1.33763441 2.08817204 1.3483871\n",
      "  2.10322581 1.2516129  1.10967742 0.03870968]]\n"
     ]
    },
    {
     "data": {
      "image/png": "[encoded data removed]",
      "text/plain": [
       "<Figure size 432x288 with 1 Axes>"
      ]
     },
     "metadata": {
      "needs_background": "light"
     },
     "output_type": "display_data"
    }
   ],
   "source": [
    "runKMeans(2, df)"
   ]
  },
  {
   "cell_type": "markdown",
   "metadata": {},
   "source": [
    "Final Cluster Values:  [[7.14957265 6.77777778 6.71367521 5.72649573 5.45726496 7.86324786\n",
    "  6.08974359 6.07692308 2.54273504 0.95299145]\n",
    " [3.04301075 1.30107527 1.44301075 1.33763441 2.08817204 1.3483871\n",
    "  2.10322581 1.2516129  1.10967742 0.03870968]]"
   ]
  },
  {
   "cell_type": "markdown",
   "metadata": {},
   "source": [
    "## Kmeans using sklearn"
   ]
  },
  {
   "cell_type": "code",
   "execution_count": 39,
   "metadata": {},
   "outputs": [],
   "source": [
    "from sklearn.cluster import KMeans\n",
    "from sklearn.preprocessing import MinMaxScaler\n",
    "X = np.array(df.drop(['class'], 1))\n",
    "y = np.array(df['class'])\n",
    "scaler = MinMaxScaler()\n",
    "X_scaled = scaler.fit_transform(X)"
   ]
  },
  {
   "cell_type": "code",
   "execution_count": 56,
   "metadata": {},
   "outputs": [
    {
     "data": {
      "text/plain": [
       "array([[7.15879828, 6.79828326, 6.72961373, 5.73390558, 5.472103  ,\n",
       "        7.86695279, 6.10300429, 6.07725322, 2.54935622],\n",
       "       [3.0472103 , 1.30257511, 1.44635193, 1.34334764, 2.08798283,\n",
       "        1.36051502, 2.10515021, 1.26180258, 1.10944206]])"
      ]
     },
     "execution_count": 56,
     "metadata": {},
     "output_type": "execute_result"
    }
   ],
   "source": [
    "kmeans = KMeans(n_clusters = 2, max_iter=1000, random_state=0)\n",
    "kmeans.fit(X)\n",
    "kmeans.cluster_centers_"
   ]
  },
  {
   "cell_type": "markdown",
   "metadata": {},
   "source": [
    "#### Cluster values similar to our algorithm but not sure if we're supposed to standardize features^"
   ]
  },
  {
   "cell_type": "code",
   "execution_count": null,
   "metadata": {},
   "outputs": [],
   "source": [
    "# number of clusters\n",
    "wcss = []\n",
    "for i in range(1,50):\n",
    "    kmeans = KMeans(n_clusters=i,init= 'k-means++',max_iter=1000,random_state=0)\n",
    "    kmeans.fit(X_scaled)\n",
    "    wcss.append(kmeans.inertia_)\n",
    "plt.plot(range(1,50),wcss)\n",
    "plt.title('The Elbow Curve')\n",
    "plt.xlabel('clusters')\n",
    "plt.ylabel('WCSS')\n",
    "plt.show()"
   ]
  },
  {
   "cell_type": "markdown",
   "metadata": {},
   "source": [
    "#### Need more clusters??^"
   ]
  },
  {
   "cell_type": "code",
   "execution_count": 21,
   "metadata": {},
   "outputs": [
    {
     "name": "stdout",
     "output_type": "stream",
     "text": [
      "          0         1         2\n",
      "0 -4.450163  0.138269 -1.738765\n",
      "1  4.812945 -4.861437  0.883325\n",
      "2 -4.606417 -0.603443  0.029277\n",
      "3  5.114643  3.467350 -2.026483\n",
      "4 -4.085787 -0.036483  0.057245\n"
     ]
    }
   ],
   "source": [
    "from sklearn.decomposition import PCA\n",
    "  \n",
    "pca = PCA(3)\n",
    "pca.fit(df)\n",
    "  \n",
    "pca_data = pd.DataFrame(pca.transform(df))\n",
    "  \n",
    "print(pca_data.head())"
   ]
  },
  {
   "cell_type": "code",
   "execution_count": 22,
   "metadata": {},
   "outputs": [],
   "source": [
    "from matplotlib import colors as mcolors\n",
    "import math\n",
    "clusters = 2   \n",
    "''' Generating different colors in ascending order \n",
    "                                of their hsv values '''\n",
    "colors = list(zip(*sorted((\n",
    "                    tuple(mcolors.rgb_to_hsv(\n",
    "                          mcolors.to_rgba(color)[:3])), name)\n",
    "                     for name, color in dict(\n",
    "                            mcolors.BASE_COLORS, **mcolors.CSS4_COLORS\n",
    "                                                      ).items())))[1]\n",
    "   \n",
    "   \n",
    "# number of steps to taken generate n(clusters) colors \n",
    "skips = math.floor(len(colors[5 : -5])/clusters)\n",
    "cluster_colors = colors[5 : -5 : skips]"
   ]
  },
  {
   "cell_type": "code",
   "execution_count": 23,
   "metadata": {},
   "outputs": [
    {
     "data": {
      "image/png": "[encoded data removed]",
      "text/plain": [
       "<Figure size 432x288 with 1 Axes>"
      ]
     },
     "metadata": {
      "needs_background": "light"
     },
     "output_type": "display_data"
    }
   ],
   "source": [
    "from mpl_toolkits.mplot3d import Axes3D\n",
    "import matplotlib.pyplot as plt\n",
    "   \n",
    "fig = plt.figure()\n",
    "ax = fig.add_subplot(111, projection = '3d')\n",
    "ax.scatter(pca_data[0], pca_data[1], pca_data[2], \n",
    "           c = list(map(lambda label : cluster_colors[label],\n",
    "                                            kmeans.labels_)))\n",
    "   \n",
    "str_labels = list(map(lambda label:'% s' % label, kmeans.labels_))\n",
    "   \n",
    "list(map(lambda data1, data2, data3, str_label:\n",
    "        ax.text(data1, data2, data3, s = str_label, size = 0.6,\n",
    "        zorder = 20, color = 'k'), pca_data[0], pca_data[1],\n",
    "        pca_data[2], str_labels))\n",
    "   \n",
    "plt.show()"
   ]
  },
  {
   "cell_type": "code",
   "execution_count": null,
   "metadata": {},
   "outputs": [],
   "source": []
  }
 ],
 "metadata": {
  "kernelspec": {
   "display_name": "Python 3",
   "language": "python",
   "name": "python3"
  },
  "language_info": {
   "codemirror_mode": {
    "name": "ipython",
    "version": 3
   },
   "file_extension": ".py",
   "mimetype": "text/x-python",
   "name": "python",
   "nbconvert_exporter": "python",
   "pygments_lexer": "ipython3",
   "version": "3.8.5"
  }
 },
 "nbformat": 4,
 "nbformat_minor": 4
}
